{
 "nbformat": 4,
 "nbformat_minor": 2,
 "metadata": {
  "language_info": {
   "name": "python",
   "codemirror_mode": {
    "name": "ipython",
    "version": 3
   },
   "version": "3.7.3-final"
  },
  "orig_nbformat": 2,
  "file_extension": ".py",
  "mimetype": "text/x-python",
  "name": "python",
  "npconvert_exporter": "python",
  "pygments_lexer": "ipython3",
  "version": 3,
  "kernelspec": {
   "name": "python3",
   "display_name": "Python 3"
  }
 },
 "cells": [
  {
   "cell_type": "code",
   "execution_count": 1,
   "metadata": {},
   "outputs": [],
   "source": [
    "#coding=utf-8"
   ]
  },
  {
   "cell_type": "code",
   "execution_count": 1,
   "metadata": {},
   "outputs": [],
   "source": [
    "import requests\n",
    "from bs4 import BeautifulSoup\n",
    "import re\n",
    "import os\n",
    "import random\n",
    "import time\n",
    "import json\n",
    "hd = {\n",
    "    \"User-Agent\":\n",
    "    \"Mozilla/5.0 (Windows NT 10.0; Win64; x64; rv:73.0) Gecko/20100101 Firefox/73.0\"}\n",
    ""
   ]
  },
  {
   "cell_type": "code",
   "execution_count": 2,
   "metadata": {},
   "outputs": [],
   "source": [
    "def gethtml(url):    # 获取网站 html 信息\n",
    "    headers = {\n",
    "\n",
    "        \"Host\": \"www.ximalaya.com\",\n",
    "        \"User-Agent\": \"Mozilla/5.0 (Windows NT 10.0; Win64; x64; rv:73.0) Gecko/20100101 Firefox/73.0\",\n",
    "\n",
    "        }\n",
    "    # 用的代理 ip，如果被封的，在http://www.xicidaili.com/换一个\n",
    "    html = requests.get(url, headers=headers)   # 请求网页信息\n",
    "    return html"
   ]
  },
  {
   "cell_type": "code",
   "execution_count": 3,
   "metadata": {},
   "outputs": [],
   "source": [
    "def getNumOfEpisodes(book_Id):\n",
    "    req = gethtml('https://www.ximalaya.com/'+'jiaoyu'+'/'+str(book_Id)+'/p'+str(1))\n",
    "\n",
    "    result = req.text\n",
    "\n",
    "    b = re.findall (u\"专辑里的声音\\(<!-- -->([\\d]*)\",result)\n",
    "\n",
    "    return int(b[0])"
   ]
  },
  {
   "cell_type": "code",
   "execution_count": 12,
   "metadata": {},
   "outputs": [],
   "source": [
    "def getid():    # 获取专辑的 id 和标题信息\n",
    "    keyword = input('请输入你要查找的音频关键字:\\n')     # 输入需要下载音频的关键字\n",
    "    albumurl = 'https://www.ximalaya.com/search/album/{}/sc/p1'.format(keyword)    # 输入关键字，拼接链接\n",
    "    html = gethtml(albumurl)\n",
    "    f = open('file.txt','w',encoding='utf-8')\n",
    "    f.write(html.text)\n",
    "    f.close()\n",
    "\n",
    "    soup = BeautifulSoup(html.text, 'lxml')\n",
    "    info = soup.select('#searchPage div.search-type div.common-tab-content div.xm-loading ul div '\n",
    "                       'a.xm-album-title.ellipsis-2')    # 提取音频文件的信息\n",
    "    idinfo = re.compile('href=\"/.*?\"').findall(str(info))     # 提取专辑中 id\n",
    "\n",
    "    titleinfo = re.compile('title=\".*?\"').findall(str(info))     # 提取专辑中标题信息\n",
    "\n",
    "    ids = []\n",
    "    titles = []\n",
    "    NumsOfEpisodes = []\n",
    "    for j in idinfo:\n",
    "        id = str(j)\n",
    "        ids.append(id)\n",
    "    for t in titleinfo:\n",
    "        # 处理下标题，防止创建文件夹失败\n",
    "        title = str(t).split('\"')[1].replace('\\\\', ' ').replace('/', ' ').replace(':', ' ').replace('*', ' ')\\\n",
    "            .replace('?', ' ').replace('\"', ' ').replace('<', ' ').replace('>', ' ').replace('|', ' ')\n",
    "        titles.append(title)\n",
    "    for k in ids:\n",
    "        NumsOfEpisodes.append(getNumOfEpisodes(k))\n",
    "    return titles, ids, NumsOfEpisodes"
   ]
  },
  {
   "cell_type": "code",
   "execution_count": 14,
   "metadata": {},
   "outputs": [
    {
     "output_type": "execute_result",
     "data": {
      "text/plain": "(['我当阴阳先生的那几年｜张二狗',\n  '我当阴阳先生的那几年',\n  '我当阴阳先生的那几年-张二狗',\n  '我当阴阳先生的那几年【头陀渊】',\n  '我当阴阳先生的那几年（屁屁球原声高清）',\n  '我当阴阳先生的那几年-张二狗',\n  '我当阴阳先生的那几年全集（屁屁球原声高清）',\n  '我当阴阳先生的那几年',\n  '我当阴阳先生的那几年 播讲 张二狗 作者 崔走召',\n  '我当阴阳先生的那几年（麻小帅版）',\n  '我当阴阳先生的那几年',\n  '我当阴阳先生的那几年(多人小说)',\n  '我当阴阳先生的那几年',\n  '我当阴阳先生的那几年东北话版',\n  '我当阴阳先生的那几年（屁屁球原声高清）',\n  '我当阴阳先生的那几年 子光演播',\n  '我当阴阳先生的那几年',\n  '致敬经典《我当阴阳先生那几年》',\n  '我当阴阳先生的那几年',\n  '【女版】我当阴阳先生的那几年'],\n ['25480690',\n  '7235715',\n  '31099497',\n  '3017390',\n  '10651552',\n  '32206242',\n  '9283606',\n  '35385797',\n  '7421834',\n  '3554258',\n  '29148148',\n  '11665044',\n  '14593230',\n  '21861246',\n  '10661512',\n  '30235254',\n  '19516474',\n  '34747919',\n  '28795518',\n  '31593518'],\n [194,\n  205,\n  194,\n  205,\n  289,\n  194,\n  289,\n  250,\n  48,\n  259,\n  150,\n  204,\n  105,\n  289,\n  90,\n  98,\n  291,\n  24,\n  6,\n  291])"
     },
     "metadata": {},
     "execution_count": 14
    }
   ],
   "source": [
    "getid()"
   ]
  },
  {
   "cell_type": "code",
   "execution_count": 9,
   "metadata": {},
   "outputs": [],
   "source": [
    "download_pool = []"
   ]
  },
  {
   "cell_type": "code",
   "execution_count": 6,
   "metadata": {},
   "outputs": [],
   "source": [
    "def download(url):\n",
    "    if url not in download_pool:\n",
    "        req = gethtml(url)\n",
    "        result = req.text\n",
    "        result = json.loads(result)\n",
    "        title = result['title']\n",
    "        data_url = result['play_path_64']\n",
    "        \n",
    "        data = requests.get(data_url).content\n",
    "        print(title)\n",
    "\n",
    "        with open('./download/'+'%s.m4a'%title,'wb') as f:\n",
    "            f.write(data)\n",
    "        download_pool.append(url)\n",
    "    else:\n",
    "        print('Skip repeat downloading')"
   ]
  },
  {
   "cell_type": "markdown",
   "metadata": {},
   "source": [
    "##复制list的五种方法：\n",
    "\n",
    "1. a\\[:\\]\n",
    "\n",
    "2. list(a)\n",
    "\n",
    "3. a*1\n",
    "\n",
    "4. copy.copy(a)\n",
    "\n",
    "5. copy.deepcopy(a)"
   ]
  },
  {
   "cell_type": "code",
   "execution_count": 7,
   "metadata": {},
   "outputs": [],
   "source": [
    "def get_EpisodeId(categray,bookID,page):\n",
    "\n",
    "    req = gethtml('https://www.ximalaya.com/'+categray+'/'+str(bookID)+'/p'+str(page))\n",
    "\n",
    "    result = req.text\n",
    "\n",
    "    id_number = re.findall('/'+str(bookID)+'/([\\d]*)',result)\n",
    "\n",
    "    id_number = set(id_number)  \n",
    "\n",
    "    id_number.remove('')\n",
    "    numbers = [ int(x) for x in id_number ] \n",
    "    numbers = sorted(numbers)\n",
    "    '''\n",
    "    numbers_fixed = numbers[:]\n",
    "\n",
    "    for i in range(len(numbers)):\n",
    "        print(len(numbers))\n",
    "        if numbers[i] in ID_pool:\n",
    "            #print('Same')\n",
    "            numbers_fixed.remove(numbers[i])\n",
    "        else :\n",
    "            #print('Add')\n",
    "            ID_pool.append(numbers[i])\n",
    "\n",
    "    print(len(numbers_fixed))\n",
    "    '''\n",
    "    id_number = [ str(x) for x in numbers ] \n",
    "\n",
    "    id = []\n",
    "    for number in id_number:\n",
    "        id.append('http://www.ximalaya.com/tracks/' + number + '.json')  # 这样构造url是不太严谨的，当然在这里是可以的，以后再探讨 url 的构造方法\n",
    "    print(len(id))\n",
    "    return id"
   ]
  },
  {
   "cell_type": "code",
   "execution_count": null,
   "metadata": {},
   "outputs": [],
   "source": [
    "\n",
    "for url in get_EpisodeId('youshengshu',30586083,1):\n",
    "    download(url)"
   ]
  },
  {
   "cell_type": "markdown",
   "metadata": {},
   "source": [
    "\n",
    "for url in get_EpisodeId('youshengshu',30586083,1):\n",
    "    download(url)"
   ]
  },
  {
   "cell_type": "code",
   "execution_count": null,
   "metadata": {},
   "outputs": [],
   "source": []
  }
 ]
}