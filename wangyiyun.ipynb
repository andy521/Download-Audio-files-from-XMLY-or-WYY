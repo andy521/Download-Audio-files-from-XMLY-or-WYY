{
 "nbformat": 4,
 "nbformat_minor": 2,
 "metadata": {
  "language_info": {
   "name": "python",
   "codemirror_mode": {
    "name": "ipython",
    "version": 3
   },
   "version": "3.7.3-final"
  },
  "orig_nbformat": 2,
  "file_extension": ".py",
  "mimetype": "text/x-python",
  "name": "python",
  "npconvert_exporter": "python",
  "pygments_lexer": "ipython3",
  "version": 3,
  "kernelspec": {
   "name": "python3",
   "display_name": "Python 3"
  }
 },
 "cells": [
  {
   "cell_type": "code",
   "execution_count": 1,
   "metadata": {},
   "outputs": [],
   "source": [
    "#coding=utf-8"
   ]
  },
  {
   "cell_type": "code",
   "execution_count": 1,
   "metadata": {},
   "outputs": [],
   "source": [
    "import requests\n",
    "import re\n",
    "from multiprocessing import Pool\n",
    "from bs4 import BeautifulSoup\n",
    "import os"
   ]
  },
  {
   "cell_type": "code",
   "execution_count": 2,
   "metadata": {},
   "outputs": [],
   "source": [
    "\n",
    "headers = {\n",
    "    'Referer': 'https://music.163.com/',\n",
    "    \"User-Agent\":\n",
    "        \"Mozilla/5.0 (Windows NT 10.0; Win64; x64; rv:73.0) Gecko/20100101 Firefox/73.0\"}"
   ]
  },
  {
   "cell_type": "code",
   "execution_count": 3,
   "metadata": {},
   "outputs": [],
   "source": [
    "def get_list(data,dir):\n",
    "    playlist_url = \"https://music.163.com/playlist?id=%s\" % data\n",
    "    res = requests.get(playlist_url, headers=headers)\n",
    "    fil = open('file.txt', 'w', encoding='UTF-8')\n",
    "    fil.write(res.text)\n",
    "\n",
    "    name = re.findall(r'<h2 class=\"f-ff2 f-brk\">(.*?)</h2>', res.text)\n",
    "    os.mkdir('./'+name[0])\n",
    "    for i in re.findall(r'<a href=\"/song\\?id=(\\d+)\">(.*?)</a>', res.text):\n",
    "        #print(i)\n",
    "        download_url = \"http://music.163.com/song/media/outer/url?id=%s\" % i[0]\n",
    "        try:\n",
    "            with open('./'+name[0]+'/' + i[1]+'.mp3', 'wb') as f:\n",
    "                f.write(requests.get(download_url, headers=headers).content)\n",
    "        except FileNotFoundError:\n",
    "            pass\n",
    "        except OSError:\n",
    "            pass\n",
    "            "
   ]
  },
  {
   "cell_type": "code",
   "execution_count": 4,
   "metadata": {},
   "outputs": [],
   "source": [
    "def get_song(data,dir):\n",
    "    song_url = \"https://music.163.com/song?id=%s\" % data\n",
    "    res = requests.get(song_url, headers=headers)\n",
    "    name = re.findall(r'<em class=\"f-ff2\">(.*?)</em>', res.text)\n",
    "    download_url = \"http://music.163.com/song/media/outer/url?id=%s\" % data\n",
    "    print(name)\n",
    "    try:\n",
    "        with open(dir + name[0]+'.mp3', 'wb') as f:\n",
    "            f.write(requests.get(download_url, headers=headers).content)\n",
    "    except FileNotFoundError:\n",
    "        pass\n",
    "    except OSError:\n",
    "        pass"
   ]
  },
  {
   "cell_type": "code",
   "execution_count": 5,
   "metadata": {},
   "outputs": [
    {
     "output_type": "stream",
     "name": "stdout",
     "text": "下载完毕！\n"
    }
   ],
   "source": [
    "get_list(4901368850,'./music/')\n",
    "print(\"下载完毕！\")"
   ]
  },
  {
   "cell_type": "code",
   "execution_count": null,
   "metadata": {},
   "outputs": [],
   "source": []
  }
 ]
}